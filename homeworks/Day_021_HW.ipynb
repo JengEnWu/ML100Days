{
 "cells": [
  {
   "cell_type": "markdown",
   "metadata": {},
   "source": [
    "## 練習時間\n",
    "將你的結果存成 csv, 上傳你的第一份 Kaggle 成績\n",
    "\n",
    "Hints: https://stackoverflow.com/questions/16923281/pandas-writing-dataframe-to-csv-file"
   ]
  },
  {
   "cell_type": "markdown",
   "metadata": {},
   "source": [
    "# [作業目標]\n",
    "- 檢視並重新執行腳本, 試著將執行結果存檔並提交到 Kaggle 上"
   ]
  },
  {
   "cell_type": "markdown",
   "metadata": {},
   "source": [
    "# [作業重點]\n",
    "- 執行後, 將所得結果, 存成可以提交的 csv 檔 (In[10]) (Hint : 使用 pandas.DataFreame.to_csv)"
   ]
  },
  {
   "cell_type": "markdown",
   "metadata": {},
   "source": [
    "# [提醒]\n",
    "- 執行後, 將所得結果, 存成可以提交的 csv 檔 (In[10]) (Hint : 使用 pandas.DataFreame.to_csv)"
   ]
  },
  {
   "cell_type": "code",
   "execution_count": 1,
   "metadata": {},
   "outputs": [],
   "source": [
    "# 載入需要的套件\n",
    "import os\n",
    "import numpy as np \n",
    "import pandas as pd\n",
    "\n",
    "import matplotlib.pyplot as plt\n",
    "%matplotlib inline"
   ]
  },
  {
   "cell_type": "markdown",
   "metadata": {},
   "source": [
    "### 仿造之前做過的處理"
   ]
  },
  {
   "cell_type": "code",
   "execution_count": 2,
   "metadata": {},
   "outputs": [],
   "source": [
    "# 設定 data_path\n",
    "dir_data = 'D:/ML100Days/'\n",
    "f_app_train = os.path.join(dir_data, 'application_train.csv')\n",
    "f_app_test = os.path.join(dir_data, 'application_test.csv')\n",
    "\n",
    "# 讀取檔案\n",
    "app_train = pd.read_csv(f_app_train)\n",
    "app_test = pd.read_csv(f_app_test)"
   ]
  },
  {
   "cell_type": "code",
   "execution_count": 3,
   "metadata": {},
   "outputs": [],
   "source": [
    "# 種類 2 種以下的類別型欄位轉標籤編碼 (Label Encoding)\n",
    "from sklearn.preprocessing import LabelEncoder\n",
    "le = LabelEncoder()\n",
    "le_count = 0\n",
    "\n",
    "# 檢查每一個 column\n",
    "for col in app_train:\n",
    "    if app_train[col].dtype == 'object':\n",
    "        # 如果只有兩種值的類別型欄位\n",
    "        if len(list(app_train[col].unique())) <= 2:\n",
    "            # 就做 Label Encoder\n",
    "            le.fit(app_train[col])\n",
    "            app_train[col] = le.transform(app_train[col])\n",
    "            app_test[col] = le.transform(app_test[col])\n",
    "            \n",
    "            # 紀錄有多少個 columns 被標籤編碼過\n",
    "            le_count += 1\n",
    "            \n",
    "# 標籤編碼 (2種類別) 欄位轉 One Hot Encoding            \n",
    "app_train = pd.get_dummies(app_train)\n",
    "app_test = pd.get_dummies(app_test)"
   ]
  },
  {
   "cell_type": "code",
   "execution_count": 4,
   "metadata": {},
   "outputs": [],
   "source": [
    "# 受雇日數為異常值的資料, 另外設一個欄位記錄, 並將異常的日數轉成空值 (np.nan)\n",
    "app_train['DAYS_EMPLOYED_ANOM'] = app_train[\"DAYS_EMPLOYED\"] == 365243\n",
    "app_train['DAYS_EMPLOYED'].replace({365243: np.nan}, inplace = True)\n",
    "app_test['DAYS_EMPLOYED_ANOM'] = app_test[\"DAYS_EMPLOYED\"] == 365243\n",
    "app_test[\"DAYS_EMPLOYED\"].replace({365243: np.nan}, inplace = True)\n",
    "\n",
    "# 出生日數 (DAYS_BIRTH) 取絕對值 \n",
    "app_train['DAYS_BIRTH'] = abs(app_train['DAYS_BIRTH'])\n",
    "app_test['DAYS_BIRTH'] = abs(app_test['DAYS_BIRTH'])"
   ]
  },
  {
   "cell_type": "markdown",
   "metadata": {},
   "source": [
    "### 做好前處理\n",
    "開始擬合模型之前，我們要確保 training & testing data 的欄位數量一致，原因是因為 One hot encoding 會製造多的欄位，有些類別出現在 training data 而沒有出現 testing data 中，我們就要把這些多餘的欄位去除"
   ]
  },
  {
   "cell_type": "code",
   "execution_count": 5,
   "metadata": {},
   "outputs": [],
   "source": [
    "train_labels = app_train['TARGET']\n",
    "\n",
    "# 調整欄位數, 移除出現在 training data 而沒有出現 testing data 中的欄位\n",
    "app_train, app_test = app_train.align(app_test, join = 'inner', axis = 1)"
   ]
  },
  {
   "cell_type": "code",
   "execution_count": 6,
   "metadata": {},
   "outputs": [
    {
     "data": {
      "text/plain": [
       "(        SK_ID_CURR  NAME_CONTRACT_TYPE  FLAG_OWN_CAR  FLAG_OWN_REALTY  \\\n",
       " 0           100002                   0             0                1   \n",
       " 1           100003                   0             0                0   \n",
       " 2           100004                   1             1                1   \n",
       " 3           100006                   0             0                1   \n",
       " 4           100007                   0             0                1   \n",
       " ...            ...                 ...           ...              ...   \n",
       " 307506      456251                   0             0                0   \n",
       " 307507      456252                   0             0                1   \n",
       " 307508      456253                   0             0                1   \n",
       " 307509      456254                   0             0                1   \n",
       " 307510      456255                   0             0                0   \n",
       " \n",
       "         CNT_CHILDREN  AMT_INCOME_TOTAL  AMT_CREDIT  AMT_ANNUITY  \\\n",
       " 0                  0          202500.0    406597.5      24700.5   \n",
       " 1                  0          270000.0   1293502.5      35698.5   \n",
       " 2                  0           67500.0    135000.0       6750.0   \n",
       " 3                  0          135000.0    312682.5      29686.5   \n",
       " 4                  0          121500.0    513000.0      21865.5   \n",
       " ...              ...               ...         ...          ...   \n",
       " 307506             0          157500.0    254700.0      27558.0   \n",
       " 307507             0           72000.0    269550.0      12001.5   \n",
       " 307508             0          153000.0    677664.0      29979.0   \n",
       " 307509             0          171000.0    370107.0      20205.0   \n",
       " 307510             0          157500.0    675000.0      49117.5   \n",
       " \n",
       "         AMT_GOODS_PRICE  REGION_POPULATION_RELATIVE  ...  \\\n",
       " 0              351000.0                    0.018801  ...   \n",
       " 1             1129500.0                    0.003541  ...   \n",
       " 2              135000.0                    0.010032  ...   \n",
       " 3              297000.0                    0.008019  ...   \n",
       " 4              513000.0                    0.028663  ...   \n",
       " ...                 ...                         ...  ...   \n",
       " 307506         225000.0                    0.032561  ...   \n",
       " 307507         225000.0                    0.025164  ...   \n",
       " 307508         585000.0                    0.005002  ...   \n",
       " 307509         319500.0                    0.005313  ...   \n",
       " 307510         675000.0                    0.046220  ...   \n",
       " \n",
       "         WALLSMATERIAL_MODE_Block  WALLSMATERIAL_MODE_Mixed  \\\n",
       " 0                              0                         0   \n",
       " 1                              1                         0   \n",
       " 2                              0                         0   \n",
       " 3                              0                         0   \n",
       " 4                              0                         0   \n",
       " ...                          ...                       ...   \n",
       " 307506                         0                         0   \n",
       " 307507                         0                         0   \n",
       " 307508                         0                         0   \n",
       " 307509                         0                         0   \n",
       " 307510                         0                         0   \n",
       " \n",
       "         WALLSMATERIAL_MODE_Monolithic  WALLSMATERIAL_MODE_Others  \\\n",
       " 0                                   0                          0   \n",
       " 1                                   0                          0   \n",
       " 2                                   0                          0   \n",
       " 3                                   0                          0   \n",
       " 4                                   0                          0   \n",
       " ...                               ...                        ...   \n",
       " 307506                              0                          0   \n",
       " 307507                              0                          0   \n",
       " 307508                              0                          0   \n",
       " 307509                              0                          0   \n",
       " 307510                              0                          0   \n",
       " \n",
       "         WALLSMATERIAL_MODE_Panel  WALLSMATERIAL_MODE_Stone, brick  \\\n",
       " 0                              0                                1   \n",
       " 1                              0                                0   \n",
       " 2                              0                                0   \n",
       " 3                              0                                0   \n",
       " 4                              0                                0   \n",
       " ...                          ...                              ...   \n",
       " 307506                         0                                1   \n",
       " 307507                         0                                1   \n",
       " 307508                         1                                0   \n",
       " 307509                         0                                1   \n",
       " 307510                         1                                0   \n",
       " \n",
       "         WALLSMATERIAL_MODE_Wooden  EMERGENCYSTATE_MODE_No  \\\n",
       " 0                               0                       1   \n",
       " 1                               0                       1   \n",
       " 2                               0                       0   \n",
       " 3                               0                       0   \n",
       " 4                               0                       0   \n",
       " ...                           ...                     ...   \n",
       " 307506                          0                       1   \n",
       " 307507                          0                       1   \n",
       " 307508                          0                       1   \n",
       " 307509                          0                       1   \n",
       " 307510                          0                       1   \n",
       " \n",
       "         EMERGENCYSTATE_MODE_Yes  DAYS_EMPLOYED_ANOM  \n",
       " 0                             0               False  \n",
       " 1                             0               False  \n",
       " 2                             0               False  \n",
       " 3                             0               False  \n",
       " 4                             0               False  \n",
       " ...                         ...                 ...  \n",
       " 307506                        0               False  \n",
       " 307507                        0                True  \n",
       " 307508                        0               False  \n",
       " 307509                        0               False  \n",
       " 307510                        0               False  \n",
       " \n",
       " [307511 rows x 240 columns],\n",
       "        SK_ID_CURR  NAME_CONTRACT_TYPE  FLAG_OWN_CAR  FLAG_OWN_REALTY  \\\n",
       " 0          100001                   0             0                1   \n",
       " 1          100005                   0             0                1   \n",
       " 2          100013                   0             1                1   \n",
       " 3          100028                   0             0                1   \n",
       " 4          100038                   0             1                0   \n",
       " ...           ...                 ...           ...              ...   \n",
       " 48739      456221                   0             0                1   \n",
       " 48740      456222                   0             0                0   \n",
       " 48741      456223                   0             1                1   \n",
       " 48742      456224                   0             0                0   \n",
       " 48743      456250                   0             1                0   \n",
       " \n",
       "        CNT_CHILDREN  AMT_INCOME_TOTAL  AMT_CREDIT  AMT_ANNUITY  \\\n",
       " 0                 0          135000.0    568800.0      20560.5   \n",
       " 1                 0           99000.0    222768.0      17370.0   \n",
       " 2                 0          202500.0    663264.0      69777.0   \n",
       " 3                 2          315000.0   1575000.0      49018.5   \n",
       " 4                 1          180000.0    625500.0      32067.0   \n",
       " ...             ...               ...         ...          ...   \n",
       " 48739             0          121500.0    412560.0      17473.5   \n",
       " 48740             2          157500.0    622413.0      31909.5   \n",
       " 48741             1          202500.0    315000.0      33205.5   \n",
       " 48742             0          225000.0    450000.0      25128.0   \n",
       " 48743             0          135000.0    312768.0      24709.5   \n",
       " \n",
       "        AMT_GOODS_PRICE  REGION_POPULATION_RELATIVE  ...  \\\n",
       " 0             450000.0                    0.018850  ...   \n",
       " 1             180000.0                    0.035792  ...   \n",
       " 2             630000.0                    0.019101  ...   \n",
       " 3            1575000.0                    0.026392  ...   \n",
       " 4             625500.0                    0.010032  ...   \n",
       " ...                ...                         ...  ...   \n",
       " 48739         270000.0                    0.002042  ...   \n",
       " 48740         495000.0                    0.035792  ...   \n",
       " 48741         315000.0                    0.026392  ...   \n",
       " 48742         450000.0                    0.018850  ...   \n",
       " 48743         270000.0                    0.006629  ...   \n",
       " \n",
       "        WALLSMATERIAL_MODE_Block  WALLSMATERIAL_MODE_Mixed  \\\n",
       " 0                             0                         0   \n",
       " 1                             0                         0   \n",
       " 2                             0                         0   \n",
       " 3                             0                         0   \n",
       " 4                             0                         0   \n",
       " ...                         ...                       ...   \n",
       " 48739                         0                         0   \n",
       " 48740                         0                         0   \n",
       " 48741                         0                         0   \n",
       " 48742                         0                         0   \n",
       " 48743                         0                         0   \n",
       " \n",
       "        WALLSMATERIAL_MODE_Monolithic  WALLSMATERIAL_MODE_Others  \\\n",
       " 0                                  0                          0   \n",
       " 1                                  0                          0   \n",
       " 2                                  0                          0   \n",
       " 3                                  0                          0   \n",
       " 4                                  0                          0   \n",
       " ...                              ...                        ...   \n",
       " 48739                              0                          0   \n",
       " 48740                              0                          0   \n",
       " 48741                              0                          0   \n",
       " 48742                              0                          0   \n",
       " 48743                              0                          0   \n",
       " \n",
       "        WALLSMATERIAL_MODE_Panel  WALLSMATERIAL_MODE_Stone, brick  \\\n",
       " 0                             0                                1   \n",
       " 1                             0                                0   \n",
       " 2                             0                                0   \n",
       " 3                             1                                0   \n",
       " 4                             0                                0   \n",
       " ...                         ...                              ...   \n",
       " 48739                         0                                0   \n",
       " 48740                         0                                0   \n",
       " 48741                         0                                1   \n",
       " 48742                         1                                0   \n",
       " 48743                         0                                0   \n",
       " \n",
       "        WALLSMATERIAL_MODE_Wooden  EMERGENCYSTATE_MODE_No  \\\n",
       " 0                              0                       1   \n",
       " 1                              0                       0   \n",
       " 2                              0                       0   \n",
       " 3                              0                       1   \n",
       " 4                              0                       0   \n",
       " ...                          ...                     ...   \n",
       " 48739                          0                       0   \n",
       " 48740                          0                       0   \n",
       " 48741                          0                       1   \n",
       " 48742                          0                       1   \n",
       " 48743                          0                       0   \n",
       " \n",
       "        EMERGENCYSTATE_MODE_Yes  DAYS_EMPLOYED_ANOM  \n",
       " 0                            0               False  \n",
       " 1                            0               False  \n",
       " 2                            0               False  \n",
       " 3                            0               False  \n",
       " 4                            0               False  \n",
       " ...                        ...                 ...  \n",
       " 48739                        0               False  \n",
       " 48740                        0               False  \n",
       " 48741                        0               False  \n",
       " 48742                        0               False  \n",
       " 48743                        0               False  \n",
       " \n",
       " [48744 rows x 240 columns])"
      ]
     },
     "execution_count": 6,
     "metadata": {},
     "output_type": "execute_result"
    }
   ],
   "source": [
    "app_train.align(app_test, join = 'inner', axis = 1)"
   ]
  },
  {
   "cell_type": "code",
   "execution_count": 21,
   "metadata": {},
   "outputs": [],
   "source": [
    "from sklearn.preprocessing import MinMaxScaler #, Imputer\n",
    "\n",
    "# 特徵欄位清單\n",
    "train = app_train\n",
    "features = list(train.columns)\n",
    "\n",
    "# 複製 test 資料\n",
    "test = app_test.copy()\n",
    "\n",
    "# 填補器 : 設定缺失值補中位數\n",
    "#imputer = Imputer(strategy = 'median')\n",
    "\n",
    "# 縮放器 : 設定特徵縮放到 0~1 區間\n",
    "scaler = MinMaxScaler(feature_range = (0, 1))\n",
    "\n",
    "# 填補器載入個欄中位數\n",
    "#imputer.fit(train)"
   ]
  },
  {
   "cell_type": "code",
   "execution_count": 22,
   "metadata": {},
   "outputs": [],
   "source": [
    "# 將中位數回填 train, test 資料中的空缺值\n",
    "train = train.fillna(train.median())\n",
    "test = app_test.fillna(app_test.median())"
   ]
  },
  {
   "cell_type": "code",
   "execution_count": 24,
   "metadata": {},
   "outputs": [
    {
     "name": "stdout",
     "output_type": "stream",
     "text": [
      "Training data shape:  (307511, 240)\n",
      "Testing data shape:  (48744, 240)\n"
     ]
    }
   ],
   "source": [
    "# 縮放器載入 train 的上下限, 對 train, test 進行縮放轉換\n",
    "scaler.fit(train)\n",
    "train = scaler.transform(train)\n",
    "test = scaler.transform(test)\n",
    "\n",
    "print('Training data shape: ', train.shape)\n",
    "print('Testing data shape: ', test.shape)"
   ]
  },
  {
   "cell_type": "markdown",
   "metadata": {},
   "source": [
    "### Fit the model"
   ]
  },
  {
   "cell_type": "code",
   "execution_count": 25,
   "metadata": {},
   "outputs": [
    {
     "data": {
      "text/plain": [
       "LogisticRegression(C=0.0001, class_weight=None, dual=False, fit_intercept=True,\n",
       "                   intercept_scaling=1, l1_ratio=None, max_iter=100,\n",
       "                   multi_class='auto', n_jobs=None, penalty='l2',\n",
       "                   random_state=None, solver='lbfgs', tol=0.0001, verbose=0,\n",
       "                   warm_start=False)"
      ]
     },
     "execution_count": 25,
     "metadata": {},
     "output_type": "execute_result"
    }
   ],
   "source": [
    "from sklearn.linear_model import LogisticRegression\n",
    "\n",
    "# 設定模型與模型參數\n",
    "log_reg = LogisticRegression(C = 0.0001)\n",
    "\n",
    "# 使用 Train 資料訓練模型\n",
    "log_reg.fit(train, train_labels)"
   ]
  },
  {
   "cell_type": "markdown",
   "metadata": {},
   "source": [
    "模型 fit 好以後，就可以用來預測 testing data 中的客戶違約遲繳貸款的機率咯! (記得要用 predict_proba 才會輸出機率)"
   ]
  },
  {
   "cell_type": "code",
   "execution_count": 26,
   "metadata": {},
   "outputs": [],
   "source": [
    "# 用模型預測結果\n",
    "# 請注意羅吉斯迴歸是分類預測 (會輸出 0 的機率, 與 1 的機率), 而我們只需要留下 1 的機率這排\n",
    "log_reg_pred = log_reg.predict_proba(test)[:, 1]"
   ]
  },
  {
   "cell_type": "markdown",
   "metadata": {},
   "source": [
    "### 儲存預測結果"
   ]
  },
  {
   "cell_type": "code",
   "execution_count": 27,
   "metadata": {},
   "outputs": [
    {
     "name": "stderr",
     "output_type": "stream",
     "text": [
      "C:\\Users\\User\\Anaconda3\\lib\\site-packages\\ipykernel_launcher.py:3: SettingWithCopyWarning: \n",
      "A value is trying to be set on a copy of a slice from a DataFrame.\n",
      "Try using .loc[row_indexer,col_indexer] = value instead\n",
      "\n",
      "See the caveats in the documentation: https://pandas.pydata.org/pandas-docs/stable/user_guide/indexing.html#returning-a-view-versus-a-copy\n",
      "  This is separate from the ipykernel package so we can avoid doing imports until\n"
     ]
    },
    {
     "data": {
      "text/html": [
       "<div>\n",
       "<style scoped>\n",
       "    .dataframe tbody tr th:only-of-type {\n",
       "        vertical-align: middle;\n",
       "    }\n",
       "\n",
       "    .dataframe tbody tr th {\n",
       "        vertical-align: top;\n",
       "    }\n",
       "\n",
       "    .dataframe thead th {\n",
       "        text-align: right;\n",
       "    }\n",
       "</style>\n",
       "<table border=\"1\" class=\"dataframe\">\n",
       "  <thead>\n",
       "    <tr style=\"text-align: right;\">\n",
       "      <th></th>\n",
       "      <th>SK_ID_CURR</th>\n",
       "      <th>TARGET</th>\n",
       "    </tr>\n",
       "  </thead>\n",
       "  <tbody>\n",
       "    <tr>\n",
       "      <th>0</th>\n",
       "      <td>100001</td>\n",
       "      <td>0.065383</td>\n",
       "    </tr>\n",
       "    <tr>\n",
       "      <th>1</th>\n",
       "      <td>100005</td>\n",
       "      <td>0.117333</td>\n",
       "    </tr>\n",
       "    <tr>\n",
       "      <th>2</th>\n",
       "      <td>100013</td>\n",
       "      <td>0.067956</td>\n",
       "    </tr>\n",
       "    <tr>\n",
       "      <th>3</th>\n",
       "      <td>100028</td>\n",
       "      <td>0.070889</td>\n",
       "    </tr>\n",
       "    <tr>\n",
       "      <th>4</th>\n",
       "      <td>100038</td>\n",
       "      <td>0.118411</td>\n",
       "    </tr>\n",
       "  </tbody>\n",
       "</table>\n",
       "</div>"
      ],
      "text/plain": [
       "   SK_ID_CURR    TARGET\n",
       "0      100001  0.065383\n",
       "1      100005  0.117333\n",
       "2      100013  0.067956\n",
       "3      100028  0.070889\n",
       "4      100038  0.118411"
      ]
     },
     "execution_count": 27,
     "metadata": {},
     "output_type": "execute_result"
    }
   ],
   "source": [
    "# 計算提交結果\n",
    "submit = app_test[['SK_ID_CURR']]\n",
    "submit['TARGET'] = log_reg_pred\n",
    "\n",
    "submit.head()"
   ]
  },
  {
   "cell_type": "code",
   "execution_count": 31,
   "metadata": {},
   "outputs": [],
   "source": [
    "submit.to_csv(\"D:/ML100Days/Day_021_HW_sumition.csv\", index=False)"
   ]
  }
 ],
 "metadata": {
  "kernelspec": {
   "display_name": "Python 3",
   "language": "python",
   "name": "python3"
  },
  "language_info": {
   "codemirror_mode": {
    "name": "ipython",
    "version": 3
   },
   "file_extension": ".py",
   "mimetype": "text/x-python",
   "name": "python",
   "nbconvert_exporter": "python",
   "pygments_lexer": "ipython3",
   "version": "3.7.4"
  }
 },
 "nbformat": 4,
 "nbformat_minor": 2
}

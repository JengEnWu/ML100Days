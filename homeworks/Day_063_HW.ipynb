{
 "cells": [
  {
   "cell_type": "markdown",
   "metadata": {},
   "source": [
    "# 作業\n",
    "* 在精簡深度學習的方式上 : 卷積類神經 (CNN) 採用像素遠近，而遞歸類神經 (RNN) 採用著則是時間遠近\n",
    "* 那麼，既然有著類似的設計精神，兩者是否有可能互換應用呢?"
   ]
  },
  {
   "cell_type": "markdown",
   "metadata": {
    "collapsed": true
   },
   "source": [
    "我認為不能互換應用。\n",
    "CNN的輸入是同時輸入且能達到以下三種特點：\n",
    "1. 圖像中的特徵可以平移\n",
    "2. 圖像中的特徵只佔整張圖的部分\n",
    "3. 減少圖片中的部分像素對整張圖的影響少\n",
    "而RNN則是在不同時間點輸入資料。  \n",
    "但我認為CNN可與RNN共生應用，綜合兩者的優點，應用於影片的辨識應該相當好。"
   ]
  }
 ],
 "metadata": {
  "kernelspec": {
   "display_name": "Python 3",
   "language": "python",
   "name": "python3"
  },
  "language_info": {
   "codemirror_mode": {
    "name": "ipython",
    "version": 3
   },
   "file_extension": ".py",
   "mimetype": "text/x-python",
   "name": "python",
   "nbconvert_exporter": "python",
   "pygments_lexer": "ipython3",
   "version": "3.7.6"
  }
 },
 "nbformat": 4,
 "nbformat_minor": 2
}
